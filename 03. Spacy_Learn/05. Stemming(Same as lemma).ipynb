{
 "cells": [
  {
   "cell_type": "code",
   "execution_count": 1,
   "id": "d9b905e6-b123-4068-b2a6-b11d36de2329",
   "metadata": {},
   "outputs": [
    {
     "name": "stdout",
     "output_type": "stream",
     "text": [
      "Collecting nltk\n",
      "  Downloading nltk-3.8.1-py3-none-any.whl (1.5 MB)\n",
      "\u001b[2K     \u001b[90m━━━━━━━━━━━━━━━━━━━━━━━━━━━━━━━━━━━━━━━━\u001b[0m \u001b[32m1.5/1.5 MB\u001b[0m \u001b[31m5.8 MB/s\u001b[0m eta \u001b[36m0:00:00\u001b[0ma \u001b[36m0:00:01\u001b[0m\n",
      "\u001b[?25hRequirement already satisfied: click in /Users/sabbha/Desktop/WorkSpace/Z-IMP/z-now/NLP2024/.nenv/lib/python3.11/site-packages (from nltk) (8.1.7)\n",
      "Collecting joblib (from nltk)\n",
      "  Using cached joblib-1.3.2-py3-none-any.whl.metadata (5.4 kB)\n",
      "Collecting regex>=2021.8.3 (from nltk)\n",
      "  Downloading regex-2023.12.25-cp311-cp311-macosx_10_9_x86_64.whl.metadata (40 kB)\n",
      "\u001b[2K     \u001b[90m━━━━━━━━━━━━━━━━━━━━━━━━━━━━━━━━━━━━━━━━\u001b[0m \u001b[32m40.9/40.9 kB\u001b[0m \u001b[31m4.5 MB/s\u001b[0m eta \u001b[36m0:00:00\u001b[0m\n",
      "\u001b[?25hRequirement already satisfied: tqdm in /Users/sabbha/Desktop/WorkSpace/Z-IMP/z-now/NLP2024/.nenv/lib/python3.11/site-packages (from nltk) (4.66.1)\n",
      "Downloading regex-2023.12.25-cp311-cp311-macosx_10_9_x86_64.whl (296 kB)\n",
      "\u001b[2K   \u001b[90m━━━━━━━━━━━━━━━━━━━━━━━━━━━━━━━━━━━━━━━━\u001b[0m \u001b[32m296.5/296.5 kB\u001b[0m \u001b[31m21.5 MB/s\u001b[0m eta \u001b[36m0:00:00\u001b[0m\n",
      "\u001b[?25hUsing cached joblib-1.3.2-py3-none-any.whl (302 kB)\n",
      "Installing collected packages: regex, joblib, nltk\n",
      "Successfully installed joblib-1.3.2 nltk-3.8.1 regex-2023.12.25\n"
     ]
    }
   ],
   "source": [
    "# !pip install nltk\n"
   ]
  },
  {
   "cell_type": "code",
   "execution_count": 2,
   "id": "1fbc4aa2-4db1-42a2-a61d-2bf905861ed8",
   "metadata": {},
   "outputs": [],
   "source": [
    "from nltk.stem import PorterStemmer\n",
    "from nltk.tokenize import word_tokenize"
   ]
  },
  {
   "cell_type": "code",
   "execution_count": 3,
   "id": "6f51a0ac-8ec7-46ca-aedb-7645574fdbf0",
   "metadata": {},
   "outputs": [],
   "source": [
    "ps = PorterStemmer()"
   ]
  },
  {
   "cell_type": "code",
   "execution_count": 4,
   "id": "ebd8398d-502e-4171-ab69-5240d6509c8a",
   "metadata": {},
   "outputs": [],
   "source": [
    "words = [\"changing\", \"changes\", \"change\", \"changed\", \"studying\", \"studies\", \"studied\", \"study\"]"
   ]
  },
  {
   "cell_type": "code",
   "execution_count": 5,
   "id": "afb31591-0177-4414-80d3-586b01cbb398",
   "metadata": {},
   "outputs": [
    {
     "name": "stdout",
     "output_type": "stream",
     "text": [
      "changing:\t chang\n",
      "changes:\t chang\n",
      "change:\t chang\n",
      "changed:\t chang\n",
      "studying:\t studi\n",
      "studies:\t studi\n",
      "studied:\t studi\n",
      "study:\t studi\n"
     ]
    }
   ],
   "source": [
    "for word in words:\n",
    "    print(f\"{word}:\\t {ps.stem(word)}\")"
   ]
  },
  {
   "cell_type": "code",
   "execution_count": 7,
   "id": "6066f47c-b368-4a96-8936-cca80fe736b9",
   "metadata": {},
   "outputs": [],
   "source": [
    "import spacy\n",
    "nlp = spacy.load(\"en_core_web_sm\")"
   ]
  },
  {
   "cell_type": "code",
   "execution_count": 8,
   "id": "edbea22b-3b16-4bca-b648-f827685a776b",
   "metadata": {},
   "outputs": [
    {
     "name": "stdout",
     "output_type": "stream",
     "text": [
      "changing:\tchange\n",
      "changes:\tchange\n",
      "change:\tchange\n",
      "changed:\tchange\n",
      "studying:\tstudy\n",
      "studies:\tstudy\n",
      "studied:\tstudy\n",
      "study:\tstudy\n"
     ]
    }
   ],
   "source": [
    "for word in words:\n",
    "    doc = nlp(word)\n",
    "    for token in doc:\n",
    "        print(f\"{word}:\\t{token.lemma_}\")"
   ]
  },
  {
   "cell_type": "code",
   "execution_count": null,
   "id": "579778a1-2e3e-4586-80fd-25c215fc1a34",
   "metadata": {},
   "outputs": [],
   "source": []
  }
 ],
 "metadata": {
  "kernelspec": {
   "display_name": "Python 3 (ipykernel)",
   "language": "python",
   "name": "python3"
  },
  "language_info": {
   "codemirror_mode": {
    "name": "ipython",
    "version": 3
   },
   "file_extension": ".py",
   "mimetype": "text/x-python",
   "name": "python",
   "nbconvert_exporter": "python",
   "pygments_lexer": "ipython3",
   "version": "3.11.5"
  }
 },
 "nbformat": 4,
 "nbformat_minor": 5
}
