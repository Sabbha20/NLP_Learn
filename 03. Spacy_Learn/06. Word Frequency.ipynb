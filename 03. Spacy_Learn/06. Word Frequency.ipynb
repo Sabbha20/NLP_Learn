{
 "cells": [
  {
   "cell_type": "code",
   "execution_count": 17,
   "id": "5b7c7233-e3ac-465b-9655-078c740e450d",
   "metadata": {},
   "outputs": [],
   "source": [
    "from collections import Counter"
   ]
  },
  {
   "cell_type": "code",
   "execution_count": 18,
   "id": "56b2e89f-efd5-4b63-b6ab-66b9420617ae",
   "metadata": {},
   "outputs": [],
   "source": [
    "text = \"\"\"Today’s LLM applications, including inference apps and agents, are mostly written in Python. But this is about to change. Python is simply too slow, too bloated, and paradoxically too unwieldy for the new wave of developers. \n",
    "In fact, Chris Lattner, the inventor of LLVM, Clang, and Swift, had demonstrated that Python can be 35,000x slower than compiled languages — and that’s why he invented the Mojo language as a Python alternative.\n",
    "In other words, Python is not only VERY slow but also hard to use for developing LLM applications.\n",
    "The challenges with Python have created opportunities for high-performance compiled languages. With C and C++ losing ground to Rust in the general developer community, Elon Musk has noted that Rust could be the language of the AGI.\n",
    "\"\"\""
   ]
  },
  {
   "cell_type": "code",
   "execution_count": 19,
   "id": "7745aa2d-c5c6-47cf-93aa-5970c31e42ca",
   "metadata": {},
   "outputs": [
    {
     "data": {
      "text/plain": [
       "'Today’s LLM applications, including inference apps and agents, are mostly written in Python. But this is about to change. Python is simply too slow, too bloated, and paradoxically too unwieldy for the new wave of developers. \\nIn fact, Chris Lattner, the inventor of LLVM, Clang, and Swift, had demonstrated that Python can be 35,000x slower than compiled languages — and that’s why he invented the Mojo language as a Python alternative.\\nIn other words, Python is not only VERY slow but also hard to use for developing LLM applications.\\nThe challenges with Python have created opportunities for high-performance compiled languages. With C and C++ losing ground to Rust in the general developer community, Elon Musk has noted that Rust could be the language of the AGI.\\n'"
      ]
     },
     "execution_count": 19,
     "metadata": {},
     "output_type": "execute_result"
    }
   ],
   "source": [
    "text"
   ]
  },
  {
   "cell_type": "code",
   "execution_count": 20,
   "id": "2e9fd4b0-49fd-49b3-b988-373fc7c44185",
   "metadata": {},
   "outputs": [],
   "source": [
    "word_freq = Counter(text.split())"
   ]
  },
  {
   "cell_type": "code",
   "execution_count": 21,
   "id": "350fc737-6bfb-4519-990b-680b8c7c2571",
   "metadata": {},
   "outputs": [
    {
     "data": {
      "text/plain": [
       "Counter({'the': 6,\n",
       "         'and': 5,\n",
       "         'Python': 5,\n",
       "         'is': 3,\n",
       "         'to': 3,\n",
       "         'too': 3,\n",
       "         'for': 3,\n",
       "         'of': 3,\n",
       "         'LLM': 2,\n",
       "         'in': 2,\n",
       "         'In': 2,\n",
       "         'that': 2,\n",
       "         'be': 2,\n",
       "         'compiled': 2,\n",
       "         'language': 2,\n",
       "         'Rust': 2,\n",
       "         'Today’s': 1,\n",
       "         'applications,': 1,\n",
       "         'including': 1,\n",
       "         'inference': 1,\n",
       "         'apps': 1,\n",
       "         'agents,': 1,\n",
       "         'are': 1,\n",
       "         'mostly': 1,\n",
       "         'written': 1,\n",
       "         'Python.': 1,\n",
       "         'But': 1,\n",
       "         'this': 1,\n",
       "         'about': 1,\n",
       "         'change.': 1,\n",
       "         'simply': 1,\n",
       "         'slow,': 1,\n",
       "         'bloated,': 1,\n",
       "         'paradoxically': 1,\n",
       "         'unwieldy': 1,\n",
       "         'new': 1,\n",
       "         'wave': 1,\n",
       "         'developers.': 1,\n",
       "         'fact,': 1,\n",
       "         'Chris': 1,\n",
       "         'Lattner,': 1,\n",
       "         'inventor': 1,\n",
       "         'LLVM,': 1,\n",
       "         'Clang,': 1,\n",
       "         'Swift,': 1,\n",
       "         'had': 1,\n",
       "         'demonstrated': 1,\n",
       "         'can': 1,\n",
       "         '35,000x': 1,\n",
       "         'slower': 1,\n",
       "         'than': 1,\n",
       "         'languages': 1,\n",
       "         '—': 1,\n",
       "         'that’s': 1,\n",
       "         'why': 1,\n",
       "         'he': 1,\n",
       "         'invented': 1,\n",
       "         'Mojo': 1,\n",
       "         'as': 1,\n",
       "         'a': 1,\n",
       "         'alternative.': 1,\n",
       "         'other': 1,\n",
       "         'words,': 1,\n",
       "         'not': 1,\n",
       "         'only': 1,\n",
       "         'VERY': 1,\n",
       "         'slow': 1,\n",
       "         'but': 1,\n",
       "         'also': 1,\n",
       "         'hard': 1,\n",
       "         'use': 1,\n",
       "         'developing': 1,\n",
       "         'applications.': 1,\n",
       "         'The': 1,\n",
       "         'challenges': 1,\n",
       "         'with': 1,\n",
       "         'have': 1,\n",
       "         'created': 1,\n",
       "         'opportunities': 1,\n",
       "         'high-performance': 1,\n",
       "         'languages.': 1,\n",
       "         'With': 1,\n",
       "         'C': 1,\n",
       "         'C++': 1,\n",
       "         'losing': 1,\n",
       "         'ground': 1,\n",
       "         'general': 1,\n",
       "         'developer': 1,\n",
       "         'community,': 1,\n",
       "         'Elon': 1,\n",
       "         'Musk': 1,\n",
       "         'has': 1,\n",
       "         'noted': 1,\n",
       "         'could': 1,\n",
       "         'AGI.': 1})"
      ]
     },
     "execution_count": 21,
     "metadata": {},
     "output_type": "execute_result"
    }
   ],
   "source": [
    "word_freq"
   ]
  },
  {
   "cell_type": "code",
   "execution_count": 22,
   "id": "ea57d269-6eda-41b7-8627-97e8b4140921",
   "metadata": {},
   "outputs": [
    {
     "data": {
      "text/plain": [
       "[('the', 6),\n",
       " ('and', 5),\n",
       " ('Python', 5),\n",
       " ('is', 3),\n",
       " ('to', 3),\n",
       " ('too', 3),\n",
       " ('for', 3),\n",
       " ('of', 3),\n",
       " ('LLM', 2),\n",
       " ('in', 2),\n",
       " ('In', 2),\n",
       " ('that', 2),\n",
       " ('be', 2),\n",
       " ('compiled', 2),\n",
       " ('language', 2),\n",
       " ('Rust', 2),\n",
       " ('Today’s', 1),\n",
       " ('applications,', 1),\n",
       " ('including', 1),\n",
       " ('inference', 1),\n",
       " ('apps', 1),\n",
       " ('agents,', 1),\n",
       " ('are', 1),\n",
       " ('mostly', 1),\n",
       " ('written', 1),\n",
       " ('Python.', 1),\n",
       " ('But', 1),\n",
       " ('this', 1),\n",
       " ('about', 1),\n",
       " ('change.', 1),\n",
       " ('simply', 1),\n",
       " ('slow,', 1),\n",
       " ('bloated,', 1),\n",
       " ('paradoxically', 1),\n",
       " ('unwieldy', 1),\n",
       " ('new', 1),\n",
       " ('wave', 1),\n",
       " ('developers.', 1),\n",
       " ('fact,', 1),\n",
       " ('Chris', 1),\n",
       " ('Lattner,', 1),\n",
       " ('inventor', 1),\n",
       " ('LLVM,', 1),\n",
       " ('Clang,', 1),\n",
       " ('Swift,', 1),\n",
       " ('had', 1),\n",
       " ('demonstrated', 1),\n",
       " ('can', 1),\n",
       " ('35,000x', 1),\n",
       " ('slower', 1),\n",
       " ('than', 1),\n",
       " ('languages', 1),\n",
       " ('—', 1),\n",
       " ('that’s', 1),\n",
       " ('why', 1),\n",
       " ('he', 1),\n",
       " ('invented', 1),\n",
       " ('Mojo', 1),\n",
       " ('as', 1),\n",
       " ('a', 1),\n",
       " ('alternative.', 1),\n",
       " ('other', 1),\n",
       " ('words,', 1),\n",
       " ('not', 1),\n",
       " ('only', 1),\n",
       " ('VERY', 1),\n",
       " ('slow', 1),\n",
       " ('but', 1),\n",
       " ('also', 1),\n",
       " ('hard', 1),\n",
       " ('use', 1),\n",
       " ('developing', 1),\n",
       " ('applications.', 1),\n",
       " ('The', 1),\n",
       " ('challenges', 1),\n",
       " ('with', 1),\n",
       " ('have', 1),\n",
       " ('created', 1),\n",
       " ('opportunities', 1),\n",
       " ('high-performance', 1),\n",
       " ('languages.', 1),\n",
       " ('With', 1),\n",
       " ('C', 1),\n",
       " ('C++', 1),\n",
       " ('losing', 1),\n",
       " ('ground', 1),\n",
       " ('general', 1),\n",
       " ('developer', 1),\n",
       " ('community,', 1),\n",
       " ('Elon', 1),\n",
       " ('Musk', 1),\n",
       " ('has', 1),\n",
       " ('noted', 1),\n",
       " ('could', 1),\n",
       " ('AGI.', 1)]"
      ]
     },
     "execution_count": 22,
     "metadata": {},
     "output_type": "execute_result"
    }
   ],
   "source": [
    "word_freq.most_common()"
   ]
  },
  {
   "cell_type": "code",
   "execution_count": 23,
   "id": "82608772-e352-4d26-9de0-06a68bad873f",
   "metadata": {},
   "outputs": [
    {
     "data": {
      "text/plain": [
       "[('the', 6), ('and', 5), ('Python', 5), ('is', 3), ('to', 3)]"
      ]
     },
     "execution_count": 23,
     "metadata": {},
     "output_type": "execute_result"
    }
   ],
   "source": [
    "word_freq.most_common(5)"
   ]
  },
  {
   "cell_type": "code",
   "execution_count": 29,
   "id": "23a1b376-a4b6-4234-8333-ee91772778ee",
   "metadata": {},
   "outputs": [],
   "source": [
    "# Removing stop words\n",
    "import spacy\n",
    "nlp = spacy.load(\"en_core_web_sm\")"
   ]
  },
  {
   "cell_type": "code",
   "execution_count": 30,
   "id": "6e50057c-f38a-4adf-8a1a-b8a65718645d",
   "metadata": {},
   "outputs": [],
   "source": [
    "doc = nlp(text.replace(\"\\n\", \"\"))"
   ]
  },
  {
   "cell_type": "code",
   "execution_count": 31,
   "id": "76d451c1-2bfd-4d80-a1a4-79ec536c4470",
   "metadata": {},
   "outputs": [],
   "source": [
    "words = [token.text for token in doc if not token.is_stop and not token.is_punct]"
   ]
  },
  {
   "cell_type": "code",
   "execution_count": 32,
   "id": "1345ccf4-1c08-4299-900a-67b489f9248e",
   "metadata": {},
   "outputs": [],
   "source": [
    "word_freq = Counter(words)"
   ]
  },
  {
   "cell_type": "code",
   "execution_count": 33,
   "id": "2e01ab1f-3396-4bbb-aeb6-6adc03462e94",
   "metadata": {},
   "outputs": [
    {
     "data": {
      "text/plain": [
       "[('Python', 6), ('LLM', 2), ('applications', 2), ('slow', 2), ('compiled', 2)]"
      ]
     },
     "execution_count": 33,
     "metadata": {},
     "output_type": "execute_result"
    }
   ],
   "source": [
    "word_freq.most_common(5)"
   ]
  },
  {
   "cell_type": "code",
   "execution_count": null,
   "id": "8b1e28b1-ca0a-48d8-9bc1-31a8946cca8c",
   "metadata": {},
   "outputs": [],
   "source": []
  }
 ],
 "metadata": {
  "kernelspec": {
   "display_name": "Python 3 (ipykernel)",
   "language": "python",
   "name": "python3"
  },
  "language_info": {
   "codemirror_mode": {
    "name": "ipython",
    "version": 3
   },
   "file_extension": ".py",
   "mimetype": "text/x-python",
   "name": "python",
   "nbconvert_exporter": "python",
   "pygments_lexer": "ipython3",
   "version": "3.11.5"
  }
 },
 "nbformat": 4,
 "nbformat_minor": 5
}
