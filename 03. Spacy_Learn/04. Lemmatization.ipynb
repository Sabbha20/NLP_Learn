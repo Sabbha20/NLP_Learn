{
 "cells": [
  {
   "cell_type": "code",
   "execution_count": 5,
   "id": "5a6f9c49-a51a-47e5-9218-d7f530b13f78",
   "metadata": {},
   "outputs": [],
   "source": [
    "import spacy\n",
    "from beautifultable import BeautifulTable "
   ]
  },
  {
   "cell_type": "code",
   "execution_count": 6,
   "id": "174c0ac5-77f8-43e7-8cfb-459ac7ce030e",
   "metadata": {},
   "outputs": [],
   "source": [
    "nlp = spacy.load(\"en_core_web_sm\")"
   ]
  },
  {
   "cell_type": "code",
   "execution_count": 25,
   "id": "ebbf502e-eb86-4b9a-a7b9-2035f704698f",
   "metadata": {},
   "outputs": [],
   "source": [
    "txt = \"I playing played plays play playing\""
   ]
  },
  {
   "cell_type": "code",
   "execution_count": 26,
   "id": "d9cbd33c-ac9c-4215-add4-239c3357c92d",
   "metadata": {},
   "outputs": [],
   "source": [
    "doc = nlp(txt)\n",
    "table = BeautifulTable()"
   ]
  },
  {
   "cell_type": "code",
   "execution_count": 27,
   "id": "9c85de8c-fe1f-4227-9102-a1d11e9956df",
   "metadata": {},
   "outputs": [],
   "source": [
    "table.columns.header= [\"Token Text\", \"Dep\", \"Dep Explain\",  \"Lemma\"]\n",
    "for token in doc:\n",
    "    table.rows.append([token.text, token.dep_, spacy.explain(token.dep_), token.lemma_])"
   ]
  },
  {
   "cell_type": "code",
   "execution_count": 29,
   "id": "a881f92a-e40c-42ca-bc57-feee3e5025bd",
   "metadata": {},
   "outputs": [
    {
     "name": "stdout",
     "output_type": "stream",
     "text": [
      "+------------+-------+-------------------------+-------+\n",
      "| Token Text |  Dep  |       Dep Explain       | Lemma |\n",
      "+------------+-------+-------------------------+-------+\n",
      "|     I      | nsubj |     nominal subject     |   I   |\n",
      "+------------+-------+-------------------------+-------+\n",
      "|  playing   | csubj |     clausal subject     | play  |\n",
      "+------------+-------+-------------------------+-------+\n",
      "|   played   | amod  |   adjectival modifier   | play  |\n",
      "+------------+-------+-------------------------+-------+\n",
      "|   plays    | dobj  |      direct object      | play  |\n",
      "+------------+-------+-------------------------+-------+\n",
      "|    play    | ROOT  |          root           | play  |\n",
      "+------------+-------+-------------------------+-------+\n",
      "|  playing   | xcomp | open clausal complement | play  |\n",
      "+------------+-------+-------------------------+-------+\n"
     ]
    }
   ],
   "source": [
    "print(table) # Here playing is acting as noun maybe, so its not converted to root form"
   ]
  },
  {
   "cell_type": "code",
   "execution_count": 39,
   "id": "08511a2b-3653-4715-9328-863d1246bb00",
   "metadata": {},
   "outputs": [],
   "source": [
    "txt2 = \"Sabbha is playing.\"\n",
    "doc2 = nlp(txt2)\n",
    "table2  = BeautifulTable()"
   ]
  },
  {
   "cell_type": "code",
   "execution_count": 40,
   "id": "6b586794-a8ee-4f98-9842-c1d66232e69b",
   "metadata": {},
   "outputs": [],
   "source": [
    "table2.columns.header= [\"Token Text\", \"Dep\", \"Dep Explain\",  \"Lemma\"]\n",
    "for token in doc2:\n",
    "    table2.rows.append([token.text, token.dep_, spacy.explain(token.dep_), token.lemma_])"
   ]
  },
  {
   "cell_type": "code",
   "execution_count": 41,
   "id": "313a2897-8271-4875-af84-74339f81f44c",
   "metadata": {},
   "outputs": [
    {
     "name": "stdout",
     "output_type": "stream",
     "text": [
      "+------------+-------+-----------------+--------+\n",
      "| Token Text |  Dep  |   Dep Explain   | Lemma  |\n",
      "+------------+-------+-----------------+--------+\n",
      "|   Sabbha   | nsubj | nominal subject | Sabbha |\n",
      "+------------+-------+-----------------+--------+\n",
      "|     is     |  aux  |    auxiliary    |   be   |\n",
      "+------------+-------+-----------------+--------+\n",
      "|  playing   | ROOT  |      root       |  play  |\n",
      "+------------+-------+-----------------+--------+\n",
      "|     .      | punct |   punctuation   |   .    |\n",
      "+------------+-------+-----------------+--------+\n"
     ]
    }
   ],
   "source": [
    "print(table2)"
   ]
  },
  {
   "cell_type": "code",
   "execution_count": null,
   "id": "7939f215-f978-4a4a-b1ed-4bf5d8952d5d",
   "metadata": {},
   "outputs": [],
   "source": []
  }
 ],
 "metadata": {
  "kernelspec": {
   "display_name": "Python 3 (ipykernel)",
   "language": "python",
   "name": "python3"
  },
  "language_info": {
   "codemirror_mode": {
    "name": "ipython",
    "version": 3
   },
   "file_extension": ".py",
   "mimetype": "text/x-python",
   "name": "python",
   "nbconvert_exporter": "python",
   "pygments_lexer": "ipython3",
   "version": "3.11.5"
  }
 },
 "nbformat": 4,
 "nbformat_minor": 5
}
